{
 "cells": [
  {
   "cell_type": "markdown",
   "metadata": {
    "deletable": false,
    "editable": false,
    "nbgrader": {
     "cell_type": "markdown",
     "checksum": "596248918869aa337a74555e91daa078",
     "grade": false,
     "grade_id": "cell-d9aa8188cccea01d",
     "locked": true,
     "schema_version": 3,
     "solution": false,
     "task": false
    },
    "tags": []
   },
   "source": [
    "## CS-E4740 - Federated Learning D (Spring 25)\n",
    "\n",
    "# Assignment 3: A FL Design Principle\n",
    "\n",
    "### B. Zheng, A. Jung, and ChatGPT\n",
    "\n",
    "<a id='varying_features'></a>\n",
    "<div class=\"alert alert-warning\">\n",
    "    <h2>Deadline: 31.03.2025</h2>\n",
    "</div>\n",
    "    \n",
    "<a id='varying_features'></a><div class=\"alert alert-info\">\n",
    "\n",
    "## Learning Goals:\n",
    "\n",
    "After completing the notebook, you should\n",
    "\n",
    "- be familiar with networkx and able to use it to build a FMI station graph,\n",
    "- be able to solve GTVMin using closed-form,\n",
    "- be able to solve GTVMin using gradient method.\n",
    "    \n",
    "## Backround Material\n",
    "\n",
    "- Chapter 4 of [FLBook](https://github.com/alexjungaalto/FederatedLearning/blob/main/material/FLBook.pdf)\n",
    "- [Documentation of Python library networkx](https://networkx.org/)"
   ]
  },
  {
   "cell_type": "markdown",
   "metadata": {
    "deletable": false,
    "editable": false,
    "nbgrader": {
     "cell_type": "markdown",
     "checksum": "0be4b66ba29e8bfc3a599e6b068ff340",
     "grade": false,
     "grade_id": "cell-f4e32961de689317",
     "locked": true,
     "schema_version": 3,
     "solution": false,
     "task": false
    },
    "tags": []
   },
   "source": [
    "## Importing necessary libraries"
   ]
  },
  {
   "cell_type": "code",
   "execution_count": 1,
   "metadata": {
    "deletable": false,
    "editable": false,
    "nbgrader": {
     "cell_type": "code",
     "checksum": "a1004e83ed9399d157f7c0346bdcf070",
     "grade": false,
     "grade_id": "cell-6a2492875ad00900",
     "locked": true,
     "schema_version": 3,
     "solution": false,
     "task": false
    },
    "tags": []
   },
   "outputs": [],
   "source": [
    "# Importing necessary libraries\n",
    "import ast  # Abstract Syntax Trees for parsing and analyzing Python code structures\n",
    "import copy  # Provides shallow and deep copy operations for objects\n",
    "import numpy as np  # NumPy for numerical computations and array manipulations\n",
    "from numpy import linalg  # Importing linear algebra submodule of NumPy for matrix operations\n",
    "import pandas as pd  # Pandas for data manipulation and analysis\n",
    "import matplotlib.pyplot as plt  # Matplotlib for data visualization\n",
    "from scipy.linalg import block_diag  # block_diag for creating diagonalized matrix\n",
    "\n",
    "\n",
    "# Scikit-learn methods for machine learning tasks\n",
    "from sklearn.neighbors import kneighbors_graph  # Computes the k-nearest neighbor graph\n",
    "from sklearn.metrics import mean_squared_error  # Measures the mean squared error for regression tasks\n",
    "from sklearn.tree import DecisionTreeRegressor  # Decision Tree Regressor for predictive modeling\n",
    "from sklearn.model_selection import train_test_split  # Splits dataset into training and test sets\n",
    "\n",
    "# Importing NetworkX for graph-based data structures and algorithms\n",
    "import networkx as nx  # NetworkX helps in creating, manipulating, and analyzing graph structures"
   ]
  },
  {
   "cell_type": "markdown",
   "metadata": {
    "deletable": false,
    "editable": false,
    "nbgrader": {
     "cell_type": "markdown",
     "checksum": "8af5a7e168ac3b1adeff72f85ce0e714",
     "grade": false,
     "grade_id": "cell-be17958909ef809a",
     "locked": true,
     "schema_version": 3,
     "solution": false,
     "task": false
    },
    "tags": []
   },
   "source": [
    "### Helper functions"
   ]
  },
  {
   "cell_type": "code",
   "execution_count": 2,
   "metadata": {
    "deletable": false,
    "editable": false,
    "nbgrader": {
     "cell_type": "code",
     "checksum": "b183ae88f2ba4f9d9959a2629963a1a5",
     "grade": false,
     "grade_id": "cell-2d0201941d1513d5",
     "locked": true,
     "schema_version": 3,
     "solution": false,
     "task": false
    },
    "tags": []
   },
   "outputs": [],
   "source": [
    "def plotFMI(G, save_path=None):\n",
    "    \"\"\"\n",
    "    Generates a scatter plot of FMI stations.\n",
    "\n",
    "    Parameters\n",
    "    ----------\n",
    "    G : networkx.Graph\n",
    "        A graph where each node represents an FMI station, \n",
    "        containing:\n",
    "        - 'coord' (tuple: latitude, longitude) for spatial positioning.\n",
    "\n",
    "    save_path : str, optional\n",
    "        If provided, saves the plot to the specified file path.\n",
    "\n",
    "    Returns\n",
    "    -------\n",
    "    None\n",
    "        Displays a scatter plot of stations, where:\n",
    "        - Nodes are plotted based on their geographic coordinates.\n",
    "        - Node labels correspond to their index in the coordinate array.\n",
    "    \"\"\"\n",
    "    # Extract coordinates\n",
    "    coords = np.array([G.nodes[node]['coord'] for node in G.nodes])\n",
    "\n",
    "    # Create the plot\n",
    "    fig, ax = plt.subplots(figsize=(10, 8))\n",
    "\n",
    "    # Draw nodes\n",
    "    ax.scatter(coords[:, 1], coords[:, 0], c='black', s=50, zorder=5)\n",
    "\n",
    "    # Add labels\n",
    "    for node, (lat, lon) in enumerate(coords):\n",
    "        ax.text(lon + 0.1, lat + 0.2, str(node), fontsize=8, ha='center', va='center', color='black', fontweight='bold')\n",
    "\n",
    "    # Draw edges\n",
    "    for u, v in G.edges:\n",
    "        ax.plot([coords[u, 1], coords[v, 1]], [coords[u, 0], coords[v, 0]], linestyle='-', color='gray')\n",
    "\n",
    "    # Set labels and title\n",
    "    ax.set_xlabel('Longitude')\n",
    "    ax.set_ylabel('Latitude')\n",
    "    ax.set_title('FMI Stations')\n",
    "    \n",
    "    # Stretch according to Tissot's indicatrix\n",
    "    ax.set_aspect(1.6)\n",
    "    \n",
    "    if save_path != None:\n",
    "        try:\n",
    "            plt.savefig(save_path)\n",
    "        except: \n",
    "            print(\"The plot cannot be saved. The path is invalid. \")\n",
    "            \n",
    "    plt.show()\n",
    "    \n",
    "def add_edges(G, numneighbors=4):\n",
    "    \"\"\"Adds edges to a graph based on k-nearest neighbors using station coordinates.\n",
    "\n",
    "    Parameters\n",
    "    ----------\n",
    "    G : networkx.Graph\n",
    "        A graph where each node has a 'coord' attribute with (latitude, longitude).\n",
    "    numneighbors : int, optional\n",
    "        Number of nearest neighbors to connect to each node, by default 4.\n",
    "\n",
    "    Returns\n",
    "    -------\n",
    "    networkx.Graph\n",
    "        A new graph with added edges based on k-nearest neighbors.\n",
    "    \"\"\"\n",
    "    # Deep copy the graph to avoid modifying the original\n",
    "    graph_with_edges = copy.deepcopy(G)\n",
    "\n",
    "    # Extract coordinates\n",
    "    coords = np.array([graph_with_edges.nodes[node]['coord'] for node in graph_with_edges.nodes])\n",
    "\n",
    "    # Create adjacency matrix using k-nearest neighbors\n",
    "    adjacency_matrix = kneighbors_graph(coords, numneighbors, mode='connectivity', include_self=False)\n",
    "\n",
    "    # Add edges based on the adjacency matrix\n",
    "    edges = zip(*adjacency_matrix.nonzero())\n",
    "    graph_with_edges.add_edges_from(edges)\n",
    "\n",
    "    return graph_with_edges"
   ]
  },
  {
   "cell_type": "markdown",
   "metadata": {
    "deletable": false,
    "editable": false,
    "nbgrader": {
     "cell_type": "markdown",
     "checksum": "f4e8d122b42799ea86738c13a05fd67f",
     "grade": false,
     "grade_id": "cell-d3c2e49583476b31",
     "locked": true,
     "schema_version": 3,
     "solution": false,
     "task": false
    },
    "tags": []
   },
   "source": [
    "## Get Data\n",
    "\n",
    "We use the dataset stored in the file **'FMI_data_2025.csv'**. This dataset contains data points with the following properties(columns): \n",
    "\n",
    "- **Name**: The name of the weather station\n",
    "- **Latitude**: The latitude of the weather station\n",
    "- **Longitude**: The longitude of the weather station\n",
    "- **Tmax**: The highest temperature recorded in the past five days\n",
    "- **Tmin**: The lowest temperature recorded in the past five days\n",
    "- **y_Tmax**: The highest temperature during a specific day\n",
    "- **y_Tmin**: The lowest temperature during a specific day\n",
    "\n",
    "Each station is identified by its name. And each station is a node in graph (we will build the graph later). \n",
    "\n",
    "Each row means temperature data of a station for 6 days, where `Tmax`/`Tmin` corresponding to the highest/lowest temperature in 5 days (we use them as features), `y_Tmax` corresponding to the highest temperature of the next day (we use it as label). \n",
    "\n",
    "Briefly speaking, in each row, we use `Tmax` and `Tmin` to predict `y_Tmax`. The term 'min' and 'max' here just helping you to understand where these data come from. We will not use `y_Tmin` in this assignment.\n",
    "\n",
    "One example that may help you understand:\n",
    "\n",
    "<center>\n",
    "<img src=\"Data-explain.png\" alt=\"data-explain\" width=\"80%\"/>\n",
    "</center>"
   ]
  },
  {
   "cell_type": "code",
   "execution_count": 3,
   "metadata": {
    "deletable": false,
    "editable": false,
    "nbgrader": {
     "cell_type": "code",
     "checksum": "0642300a9b3e68e5e6c40be488dc1a55",
     "grade": false,
     "grade_id": "cell-882bcf37c82a27bd",
     "locked": true,
     "schema_version": 3,
     "solution": false,
     "task": false
    },
    "tags": []
   },
   "outputs": [
    {
     "name": "stdout",
     "output_type": "stream",
     "text": [
      "Number of unique stations: 192\n",
      "                              Name  Latitude  Longitude  \\\n",
      "0  Jomala Maarianhamina lentoasema  60.12735   19.90038   \n",
      "1  Jomala Maarianhamina lentoasema  60.12735   19.90038   \n",
      "2  Jomala Maarianhamina lentoasema  60.12735   19.90038   \n",
      "3  Jomala Maarianhamina lentoasema  60.12735   19.90038   \n",
      "4  Jomala Maarianhamina lentoasema  60.12735   19.90038   \n",
      "\n",
      "                          Tmax                            Tmin  y_Tmax  \\\n",
      "0  [0.3, -1.9, -1.2, 5.4, 7.7]   [-2.6, -4.9, -5.1, -9.6, 4.4]     7.1   \n",
      "1    [6.4, 4.6, 3.1, 5.9, 6.3]      [4.4, 2.2, -1.5, 3.0, 5.1]     5.8   \n",
      "2   [4.7, -2.1, 3.2, 4.5, 4.0]   [-2.6, -9.1, -9.2, -0.7, 0.5]     2.7   \n",
      "3    [2.7, 0.9, 4.2, 2.7, 1.1]  [-3.4, -4.2, -2.1, -3.7, -7.8]     3.7   \n",
      "4    [2.4, 5.8, 4.5, 4.8, 6.4]    [-2.0, -0.2, 2.5, -5.6, 3.6]     4.7   \n",
      "\n",
      "   y_Tmin                                                  X  \n",
      "0     5.7  [0.3, -1.9, -1.2, 5.4, 7.7, -2.6, -4.9, -5.1, ...  \n",
      "1     4.0  [6.4, 4.6, 3.1, 5.9, 6.3, 4.4, 2.2, -1.5, 3.0,...  \n",
      "2     0.7  [4.7, -2.1, 3.2, 4.5, 4.0, -2.6, -9.1, -9.2, -...  \n",
      "3     0.8  [2.7, 0.9, 4.2, 2.7, 1.1, -3.4, -4.2, -2.1, -3...  \n",
      "4    -0.8  [2.4, 5.8, 4.5, 4.8, 6.4, -2.0, -0.2, 2.5, -5....  \n"
     ]
    }
   ],
   "source": [
    "# Load the weather dataset\n",
    "# This dataset contains weather measurements for different stations\n",
    "# 'FMI_data_2025.csv' should be in the same directory as this script\n",
    "# Ensure the file is available before running the script\n",
    "\n",
    "data = pd.read_csv('FMI_data_2025.csv')\n",
    "\n",
    "# Process relevant columns\n",
    "# Create a new column 'X' that combines Tmax and Tmin values for each station\n",
    "# This combines temperature measurements into a single representation\n",
    "\n",
    "data['X'] = data.apply(lambda row: row['Tmax'] + row['Tmin'], axis=1)\n",
    "\n",
    "# Convert the combined temperature values from string representation to a list format\n",
    "# Some values may be stored as a string with '][', which is replaced and parsed correctly\n",
    "data['X'] = data['X'].apply(lambda row: ast.literal_eval(row.replace('][', ', ')))\n",
    "\n",
    "# Count the number of unique weather stations in the dataset\n",
    "n_stations = len(data.Name.unique())\n",
    "print(f\"Number of unique stations: {n_stations}\")\n",
    "\n",
    "# Display the first five rows of the processed dataset\n",
    "print(data.head())"
   ]
  },
  {
   "cell_type": "markdown",
   "metadata": {
    "deletable": false,
    "editable": false,
    "nbgrader": {
     "cell_type": "markdown",
     "checksum": "89536fd9c1b33dfb772d39b15d80ee01",
     "grade": false,
     "grade_id": "cell-e029135e98feed7f",
     "locked": true,
     "schema_version": 3,
     "solution": false,
     "task": false
    },
    "tags": []
   },
   "source": [
    "<a id='varying_features'></a>\n",
    "<div class=\" alert alert-warning\">\n",
    "\n",
    "### Task 3.1 - Building a FMI Network\n",
    "\n",
    "Generate a FL network $\\mathcal{G}^{(\\mathrm{FMI})}$ with nodes $i=1, \\ldots, n$ representing the FMI stations listed in the above dataset.\n",
    "\n",
    "- Node $i$ carries a local dataset $\\mathcal{D}^{(i)}$ that consists of data points that represent daily weather conditions at the corresponding FMI station. The features of a data point (representing a specific day) are the maximum and minimum daytime temperature during that day and the previous 4 days (5 days in total). The label of a data point is the maximum daytime temperature during the following day.\n",
    "\n",
    "- Split data in each node into `X_train, X_val, y_train, y_val`, with `test_size=0.2` `random_state=42`, we might need to convert the data type to `float`\n",
    "\n",
    "- Construct edges $\\mathcal{E}$ of $\\mathcal{G}^{(\\mathrm{FMI})}$ by connecting each node to its **4** nearest neighbours. We measure distance between FMI stations $i, i^{\\prime}$ by $\\left\\|\\mathbf{z}^{(i)}-\\mathbf{z}^{\\left(i^{\\prime}\\right)}\\right\\|_2$, $\\mathbf{z}^{(i)}=(\\text { lat, lon })^T$ with latitude and longitude of FMI station. You can use the helper function `add_edges`.\n",
    "</div>"
   ]
  },
  {
   "cell_type": "code",
   "execution_count": 4,
   "metadata": {
    "deletable": false,
    "nbgrader": {
     "cell_type": "code",
     "checksum": "ed531cf6414cd1968817de2eebac4577",
     "grade": false,
     "grade_id": "cell-4ae31ec40b79e2fd",
     "locked": false,
     "schema_version": 3,
     "solution": true,
     "task": false
    },
    "tags": []
   },
   "outputs": [
    {
     "name": "stdout",
     "output_type": "stream",
     "text": [
      "The empirical graph is connected: True\n"
     ]
    }
   ],
   "source": [
    "# Create a networkX graph\n",
    "G_FMI_no_edges = nx.Graph()\n",
    "\n",
    "# Add a one node per station\n",
    "G_FMI_no_edges.add_nodes_from(range(0, n_stations))\n",
    "\n",
    "for i, station in enumerate(data.Name.unique()):\n",
    "    \n",
    "    # Extract data of a certain station\n",
    "    station_data = data[data.Name==station]\n",
    "    \n",
    "    X_node = station_data['X'].to_numpy().reshape(-1, 1)\n",
    "    y_node = station_data['y_Tmax'].to_numpy().reshape(-1, 1)\n",
    "    \n",
    "    X_train, X_val, y_train, y_val = train_test_split(X_node, \n",
    "                                                        y_node, \n",
    "                                                        test_size=0.2, \n",
    "                                                        random_state=42)\n",
    "    \n",
    "    # Assign node attributes\n",
    "    # G_FMI_no_edges.nodes[i].update({\n",
    "    #     'name': ?,\n",
    "    #     'X_train': ?,\n",
    "    #     'y_train': ?,\n",
    "    #     'X_val': ?,\n",
    "    #     'y_val': ?,\n",
    "    #     'weights': you can assume all weights as 0,\n",
    "    #     'coord': ?\n",
    "    # })\n",
    "    \n",
    "    # YOUR CODE HERE\n",
    "    G_FMI_no_edges.nodes[i].update({\n",
    "        'name': station,\n",
    "        'X_train': X_train,\n",
    "        'y_train': y_train,\n",
    "        'X_val': X_val,\n",
    "        'y_val': y_val,\n",
    "        'weights': 0,\n",
    "        'coord': (station_data.iloc[0]['Latitude'], station_data.iloc[0]['Longitude'])\n",
    "    })\n",
    "\n",
    "\n",
    "# Add edges between each station and its nearest 4 neighbors.\n",
    "# G_FMI = add_edges(??)\n",
    "\n",
    "# YOUR CODE HERE\n",
    "G_FMI = add_edges(G_FMI_no_edges, numneighbors=4)\n",
    "\n",
    "# NOTE: The empirical graph is connected with numneighbors=4\n",
    "print(\"The empirical graph is connected:\", nx.is_connected(G_FMI))\n"
   ]
  },
  {
   "cell_type": "code",
   "execution_count": 5,
   "metadata": {
    "deletable": false,
    "editable": false,
    "nbgrader": {
     "cell_type": "code",
     "checksum": "aedca3d27fe43e53f350cc5b4f7e0fb3",
     "grade": false,
     "grade_id": "cell-0ad4eb7e2e1d9202",
     "locked": true,
     "schema_version": 3,
     "solution": false,
     "task": false
    },
    "tags": []
   },
   "outputs": [
    {
     "data": {
      "image/png": "[encoded data removed]",
      "text/plain": [
       "<Figure size 1000x800 with 1 Axes>"
      ]
     },
     "metadata": {},
     "output_type": "display_data"
    }
   ],
   "source": [
    "# Convert data type for X \n",
    "for node in G_FMI.nodes:\n",
    "    X_train_obj = G_FMI.nodes[node]['X_train'] \n",
    "    X_train_array = np.array([row[0] for row in X_train_obj], dtype=float)\n",
    "    G_FMI.nodes[node]['X_train'] = X_train_array\n",
    "    \n",
    "    X_val_obj = G_FMI.nodes[node]['X_val'] \n",
    "    X_val_array = np.array([row[0] for row in X_val_obj], dtype=float)\n",
    "    G_FMI.nodes[node]['X_val'] = X_val_array\n",
    "\n",
    "# Visualize the empirical graph\n",
    "plotFMI(G_FMI)"
   ]
  },
  {
   "cell_type": "code",
   "execution_count": 6,
   "metadata": {
    "deletable": false,
    "editable": false,
    "nbgrader": {
     "cell_type": "code",
     "checksum": "17c50378b3e25305d772923a3c6cb248",
     "grade": true,
     "grade_id": "cell-5a42545df272fd00",
     "locked": true,
     "points": 1,
     "schema_version": 3,
     "solution": false,
     "task": false
    },
    "tags": []
   },
   "outputs": [
    {
     "name": "stdout",
     "output_type": "stream",
     "text": [
      "Sanity check passed!\n"
     ]
    }
   ],
   "source": [
    "# Sanity check \n",
    "\n",
    "attributes = set(G_FMI.nodes[0].keys())\n",
    "assert (set(['name', 'X_train', 'y_train', 'X_val', 'y_val', 'weights', 'coord']) == attributes), 'Some attributes have not been found!'\n",
    "\n",
    "assert(G_FMI.number_of_nodes() == 192), \"Should have 192 nodes\"\n",
    "assert(G_FMI.number_of_edges() == 486), \"Should have 486 edges with neighbors=4\"\n",
    "assert([np.all(G_FMI.nodes[i]['X_train'].shape == (8,10) for i in range(G_FMI.number_of_nodes()))]), \"X_train shape for each node should be (8,10)\"\n",
    "assert([np.all(G_FMI.nodes[i]['X_val'].shape == (2,10) for i in range(G_FMI.number_of_nodes()))]), \"X_val shape for each node should be (2,10)\"\n",
    "assert([np.all(G_FMI.nodes[i]['y_train'].shape == (8,1) for i in range(G_FMI.number_of_nodes()))]), \"y_train shape for each node should be (8,1)\"\n",
    "assert([np.all(G_FMI.nodes[i]['y_val'].shape == (2,10) for i in range(G_FMI.number_of_nodes()))]), \"y_val shape for each node should be (2,10)\"\n",
    "\n",
    "assert([np.all(G_FMI.nodes[i]['X_train'].dtype == np.float64 for i in range(G_FMI.number_of_nodes()))]), \"data type should be float64\"\n",
    "assert([np.all(G_FMI.nodes[i]['y_train'].dtype == np.float64 for i in range(G_FMI.number_of_nodes()))]), \"data type should be float64\"\n",
    "assert([np.all(G_FMI.nodes[i]['X_val'].dtype == np.float64 for i in range(G_FMI.number_of_nodes()))]), \"data type should be float64\"\n",
    "assert([np.all(G_FMI.nodes[i]['y_val'].dtype == np.float64 for i in range(G_FMI.number_of_nodes()))]), \"data type should be float64\"\n",
    "\n",
    "print('Sanity check passed!')\n"
   ]
  },
  {
   "cell_type": "markdown",
   "metadata": {
    "deletable": false,
    "editable": false,
    "nbgrader": {
     "cell_type": "markdown",
     "checksum": "fbdc87d7231d5f43450b738ca23c9d29",
     "grade": false,
     "grade_id": "cell-16fd42ef4f0ab206",
     "locked": true,
     "schema_version": 3,
     "solution": false,
     "task": false
    },
    "tags": []
   },
   "source": [
    "## GTVMin for Local Linear Regression\n",
    "\n",
    "Generalized Total Variation Minimization (GTVMin) optimally balances the (average) local loss and the GTV of local model parameters $\\mathbf{w}^{(i)}$\n",
    "\n",
    "$$\\left\\{\\widehat{\\mathbf{w}}^{(i)}\\right\\}_{i=1}^n \\in \\operatorname{argmin} \\sum_{i \\in \\mathcal{V}} L_i\\left(\\mathbf{w}^{(i)}\\right)+\\alpha \\sum_{\\left\\{i, i^{\\prime}\\right\\} \\in \\mathcal{E}} A_{i, i^{\\prime}} \\phi\\left(\\mathbf{w}^{(i)}-\\mathbf{w}^{\\left(i^{\\prime}\\right)}\\right)$$\n",
    "\n",
    "For linear hypothesis  $h^{(i)}(\\mathbf{x}):=\\left(\\mathbf{w}^{(i)}\\right)^T \\mathbf{x}$  and MSE loss:\n",
    "  \n",
    "\n",
    "$$\n",
    "\\begin{aligned}\n",
    "L_i\\left(\\mathbf{w}^{(i)}\\right): & =\\left(1 / m_i\\right) \\sum_{r=1}^{m_i}\\left(y^{(i, r)}-\\left(\\mathbf{w}^{(i)}\\right)^T \\mathbf{x}^{(i, r)}\\right)^2 \\\\\n",
    "& =\\left(1 / m_i\\right)\\left\\|\\mathbf{y}^{(i)}-\\mathbf{X}^{(i)} \\mathbf{w}^{(i)}\\right\\|_2^2\n",
    "\\end{aligned}\n",
    "$$\n",
    "\n",
    "  \n",
    "\n",
    "where $m_i$ is number of elements of node $i$.\n",
    "\n",
    "  \n",
    "\n",
    "\n"
   ]
  },
  {
   "cell_type": "markdown",
   "metadata": {
    "deletable": false,
    "editable": false,
    "nbgrader": {
     "cell_type": "markdown",
     "checksum": "6c9b794b56eea043bce137f0aa3f7aba",
     "grade": false,
     "grade_id": "cell-322cbe959192dd7a",
     "locked": true,
     "schema_version": 3,
     "solution": false,
     "task": false
    },
    "tags": []
   },
   "source": [
    "<a id='varying_features'></a>\n",
    "<div class=\" alert alert-warning\">\n",
    "\n",
    "### Task 3.2 - Solve GTVMin using closed form\n",
    "\n",
    "The linear local model has some nice properties which allow us to solve it in closed form. In this task, you will use method introduced in [FLBook](https://github.com/alexjungaalto/FederatedLearning/blob/main/material/FLBook.pdf) Section 3.4.1\n",
    "\n",
    "**Instruction**:\n",
    "\n",
    "For each node $i$, first we define \n",
    "\n",
    "$$\\mathbf{Q}^{(i)}=\\left(1 / m_i\\right)\\left(\\mathbf{X}^{(i)}\\right)^T \\mathbf{X}^{(i)}$$\n",
    "\n",
    "and \n",
    "$$\\mathbf{q}^{(i)}:=\\left(-2 / m_i\\right)\\left(\\mathbf{X}^{(i)}\\right)^T \\mathbf{y}^{(i)}$$\n",
    "\n",
    "where $\\mathbf{X}$ is feature matrix and $\\mathbf{y}$ is label matrix\n",
    "  \n",
    "\n",
    "Then defining $\\mathbf{Q}$ by stacking $\\mathbf{Q}^{(i)}$ togethe:\n",
    "\n",
    "  \n",
    "\n",
    "$$\n",
    "\\mathbf{Q}:=\\left(\\begin{array}{cccc}\n",
    "\\mathbf{Q}^{(1)} & \\mathbf{0} & \\cdots & \\mathbf{0} \\\\\n",
    "\\mathbf{0} & \\mathbf{Q}^{(2)} & \\cdots & \\mathbf{0} \\\\\n",
    "\\vdots & \\vdots & \\ddots & \\vdots \\\\\n",
    "\\mathbf{0} & \\mathbf{0} & \\cdots & \\mathbf{Q}^{(n)}\n",
    "\\end{array}\\right)+\\alpha \\mathbf{L}^{(\\mathcal{G})} \\otimes \\mathbf{I}\n",
    "$$\n",
    "\n",
    "  \n",
    "\n",
    "where $\\mathbf{L}^{(\\mathcal{G})}$ is Laplician matrix for empirical graph, $\\alpha$ is GTVMin parameter, $\\otimes$ is Kronecker Product\n",
    "\n",
    "Defining $\\mathbf{q}$ by stacking $\\mathbf{q}^{(i)}$ together:\n",
    "\n",
    "$$\\mathbf{q}:=\\left(\\left(\\mathbf{q}^{(1)}\\right)^T, \\ldots,\\left(\\mathbf{q}^{(n)}\\right)^T\\right)^T$$\n",
    "\n",
    "After some algebra, the objective of GTVMin (for local linear models $\\mathcal{H}:=\\left\\{h:h(x)=\\mathbf{w}^T \\mathbf{x}\\right\\}$) becomes a convex quadratic function:\n",
    "\n",
    "  \n",
    "\n",
    "$$\n",
    "\\left\\{\\widehat{\\mathbf{w}}^{(i)}\\right\\}_{i=1}^n \\in \\operatorname{argmin} \\mathbf{w}^T \\mathbf{Q} \\mathbf{w}+\\mathbf{q}^T \\mathbf{w}\n",
    "$$\n",
    "\n",
    "(💡 Why is this convex quadratic function?)\n",
    "\n",
    "If the matrix $\\mathbf{Q}$ is invertible, the $\\widehat{\\mathbf{w}}$ is unique and given by:\n",
    "\n",
    "  \n",
    "\n",
    "$$\\widehat{\\mathbf{w}}=(-1 / 2) \\mathbf{Q}^{-1} \\mathbf{q}$$\n",
    "\n",
    "\n",
    "</div>"
   ]
  },
  {
   "cell_type": "markdown",
   "metadata": {
    "deletable": false,
    "editable": false,
    "nbgrader": {
     "cell_type": "markdown",
     "checksum": "b191f48c745eb0851b33714a6356cb34",
     "grade": false,
     "grade_id": "cell-b7ab702d801c5dd3",
     "locked": true,
     "schema_version": 3,
     "solution": false,
     "task": false
    },
    "tags": []
   },
   "source": [
    "<a id='varying_features'></a>\n",
    "<div class=\" alert alert-warning\">\n",
    "\n",
    "#### 3.2.1 $\\mathbf{Q}^{(i)}$ & $\\mathbf{q}^{(i)}$\n",
    "\n",
    "Compute \n",
    "\n",
    "$$\\mathbf{Q}^{(i)}=\\left(1 / m_i\\right)\\left(\\mathbf{X}^{(i)}\\right)^T \\mathbf{X}^{(i)}$$\n",
    "\n",
    "And \n",
    "\n",
    "$$\\mathbf{q}^{(i)}:=\\left(-2 / m_i\\right)\\left(\\mathbf{X}^{(i)}\\right)^T \\mathbf{y}^{(i)}$$\n",
    "\n",
    "for each node $i$\n",
    "\n",
    "</div>"
   ]
  },
  {
   "cell_type": "code",
   "execution_count": 7,
   "metadata": {
    "deletable": false,
    "nbgrader": {
     "cell_type": "code",
     "checksum": "e22ece867c6435367c96177bbf4e8d23",
     "grade": false,
     "grade_id": "cell-f5c94a439be2ca29",
     "locked": false,
     "schema_version": 3,
     "solution": true,
     "task": false
    },
    "tags": []
   },
   "outputs": [],
   "source": [
    "def compute_Qi(X):\n",
    "    \"\"\"\n",
    "    Compute the matrix Q^(i) for a single node's data.\n",
    "\n",
    "    The computation follows:\n",
    "        Q^(i) = (1 / m_i) * X^T * X\n",
    "\n",
    "    where:\n",
    "    - X is a matrix of shape (m_i, d), representing m_i samples with d features.\n",
    "    - m_i is the number of samples.\n",
    "\n",
    "    Parameters\n",
    "    ----------\n",
    "    X : numpy.ndarray\n",
    "        A 2D array of shape (m_i, d) representing the data matrix for a node.\n",
    "\n",
    "    Returns\n",
    "    -------\n",
    "    numpy.ndarray\n",
    "        A square matrix of shape (d, d) representing the computed Q^(i).\n",
    "    \"\"\"\n",
    "    # YOUR CODE HERE\n",
    "    m_i = X.shape[0]  # Number of samples\n",
    "    return (1 / m_i) * (X.T @ X)\n",
    "\n",
    "def compute_qi(X, y):\n",
    "    \"\"\"\n",
    "    Compute the vector q^(i) for a single node's data.\n",
    "\n",
    "    The computation follows:\n",
    "        q^(i) = (-2 / m_i) * X^T * y\n",
    "\n",
    "    where:\n",
    "    - X is a matrix of shape (m_i, d), representing m_i samples with d features.\n",
    "    - y is a vector of shape (m_i,), representing target values.\n",
    "    - m_i is the number of samples.\n",
    "\n",
    "    Parameters\n",
    "    ----------\n",
    "    X : numpy.ndarray\n",
    "        A 2D array of shape (m_i, d) representing the feature matrix for a node.\n",
    "    y : numpy.ndarray\n",
    "        A 1D array of shape (m_i,) representing the target values.\n",
    "\n",
    "    Returns\n",
    "    -------\n",
    "    numpy.ndarray\n",
    "        A column vector of shape (d, 1) representing the computed q^(i).\n",
    "    \"\"\"\n",
    "    # YOUR CODE HERE\n",
    "    m_i = X.shape[0]  # Number of samples\n",
    "    return (-2 / m_i) * (X.T @ y.reshape(-1, 1))"
   ]
  },
  {
   "cell_type": "code",
   "execution_count": 8,
   "metadata": {
    "deletable": false,
    "editable": false,
    "nbgrader": {
     "cell_type": "code",
     "checksum": "6c2621419b44718ba164f1517f7e334a",
     "grade": true,
     "grade_id": "cell-b69fc3edcbe2f4c8",
     "locked": true,
     "points": 1,
     "schema_version": 3,
     "solution": false,
     "task": false
    },
    "tags": []
   },
   "outputs": [
    {
     "name": "stdout",
     "output_type": "stream",
     "text": [
      "Sanity check passed!\n"
     ]
    }
   ],
   "source": [
    "# Sanity check \n",
    "\n",
    "X_train_0 = G_FMI.nodes[0]['X_train']\n",
    "y_train_0 = G_FMI.nodes[0]['y_train']\n",
    "\n",
    "Qi_0 = compute_Qi(X_train_0)\n",
    "qi_0 = compute_qi(X_train_0, y_train_0)\n",
    "\n",
    "assert(Qi_0.shape == (10,10))\n",
    "assert(qi_0.shape == (10,1))\n",
    "\n",
    "print('Sanity check passed!')\n"
   ]
  },
  {
   "cell_type": "markdown",
   "metadata": {
    "deletable": false,
    "editable": false,
    "nbgrader": {
     "cell_type": "markdown",
     "checksum": "155fcd6054b1fec5b8ccec2f8358e8ec",
     "grade": false,
     "grade_id": "cell-aca501869092139f",
     "locked": true,
     "schema_version": 3,
     "solution": false,
     "task": false
    },
    "tags": []
   },
   "source": [
    "<a id='varying_features'></a>\n",
    "<div class=\" alert alert-warning\">\n",
    "\n",
    "#### 3.2.2 $\\mathbf{Q}$ & $\\mathbf{q}$\n",
    "\n",
    "Stack $\\mathbf{Q}^{(i)}$ and combine with $\\mathbf{L}^{(\\mathcal{G})}$ to compute $\\mathbf{Q}$\n",
    "\n",
    "$$\n",
    "\\mathbf{Q}:=\\operatorname{diag}(\\mathbf{Q}^{(i)})+\\alpha \\mathbf{L}^{(\\mathcal{G})} \\otimes \\mathbf{I}\n",
    "$$\n",
    "\n",
    "Stack $\\mathbf{q}^{(i)}$\n",
    "\n",
    "$$\\mathbf{q} :=\\operatorname{vstack}(\\mathbf{q}^{(i)})$$\n",
    "\n",
    "</div>"
   ]
  },
  {
   "cell_type": "code",
   "execution_count": 9,
   "metadata": {
    "deletable": false,
    "nbgrader": {
     "cell_type": "code",
     "checksum": "b3a978f4f967e96ad50d816b00f687b7",
     "grade": false,
     "grade_id": "cell-2ad78edd0459b7f0",
     "locked": false,
     "schema_version": 3,
     "solution": true,
     "task": false
    },
    "tags": []
   },
   "outputs": [],
   "source": [
    "def compute_stack_Qi_q(G):\n",
    "    \"\"\"\n",
    "    Compute and stack Q^(i) and q^(i) matrices for all nodes in a given graph G.\n",
    "\n",
    "    Parameters\n",
    "    ----------\n",
    "    G : networkx.Graph\n",
    "        A graph where each node contains:\n",
    "        - 'X_train' : numpy.ndarray of shape (m_i, d) representing input features.\n",
    "        - 'y_train' : numpy.ndarray of shape (m_i,) representing target values.\n",
    "\n",
    "    Returns\n",
    "    -------\n",
    "    Qi_blockdiag : numpy.ndarray\n",
    "        A block diagonal matrix of shape (n*d, n*d) where each Q^(i) is placed along the diagonal.\n",
    "    q_stacked : numpy.ndarray\n",
    "        A stacked column vector of shape (n*d, 1) where each q^(i) is vertically stacked.\n",
    "    \"\"\"\n",
    "\n",
    "    nodes = list(G.nodes)\n",
    "\n",
    "    # hint:\n",
    "    # Qi_blockdiag = ??     # shape: (n*d, n*d)\n",
    "    # q_stacked = ??        # shape: (n*d, 1)\n",
    "    # we will use compute_Qi() and compute_qi() written earlier\n",
    "\n",
    "    # YOUR CODE HERE\n",
    "    Q_list = []\n",
    "    q_list = []\n",
    "\n",
    "    for node in G.nodes:\n",
    "        X_train = G.nodes[node]['X_train']\n",
    "        y_train = G.nodes[node]['y_train']\n",
    "\n",
    "        Qi = compute_Qi(X_train)\n",
    "        qi = compute_qi(X_train, y_train)\n",
    "\n",
    "        Q_list.append(Qi)\n",
    "        q_list.append(qi)\n",
    "\n",
    "    Qi_blockdiag = block_diag(*Q_list)  # Construct block diagonal matrix\n",
    "    q_stacked = np.vstack(q_list)  # Stack q^(i) vectors\n",
    "\n",
    "    return Qi_blockdiag, q_stacked\n",
    "    \n",
    "def compute_Q(G, Qi_blockdiag, alpha=1):\n",
    "    \"\"\"\n",
    "    Compute the global matrix Q for a given graph G.\n",
    "\n",
    "    Parameters\n",
    "    ----------\n",
    "    G : networkx.Graph\n",
    "        A graph where each node contains 'X_train', which determines the feature dimension.\n",
    "    Qi_blockdiag : numpy.ndarray\n",
    "        A block diagonal matrix of shape (n*d, n*d) containing per-node Q^(i) matrices.\n",
    "    alpha : float, optional\n",
    "        Regularization parameter for the Laplacian term (default is 1).\n",
    "\n",
    "    Returns\n",
    "    -------\n",
    "    Q : numpy.ndarray\n",
    "        A matrix of shape (n*d, n*d) computed as Q_blockdiag + alpha * (L ⊗ I_d).\n",
    "    \"\"\"\n",
    "    \n",
    "    # Dimension of data\n",
    "    d = G.nodes[0]['X_train'].shape[1]\n",
    "    \n",
    "    # Laplician matrix \n",
    "    L = nx.laplacian_matrix(G).toarray()  # shape: (n, n)\n",
    "    \n",
    "    # Hint: use np.kron() for ⊗\n",
    "    # I_d = ?\n",
    "    # Q = ?\n",
    "    \n",
    "    # YOUR CODE HERE\n",
    "    I_d = np.eye(d)  # Identity matrix of size d\n",
    "    Q = Qi_blockdiag + alpha * np.kron(L, I_d)  # Compute Q using Kronecker product\n",
    "    \n",
    "    return Q"
   ]
  },
  {
   "cell_type": "code",
   "execution_count": 10,
   "metadata": {
    "deletable": false,
    "editable": false,
    "nbgrader": {
     "cell_type": "code",
     "checksum": "04c314b73c2a3b243e3c2db4a7034151",
     "grade": true,
     "grade_id": "cell-0d0fb95704b43138",
     "locked": true,
     "points": 1,
     "schema_version": 3,
     "solution": false,
     "task": false
    },
    "tags": []
   },
   "outputs": [
    {
     "name": "stdout",
     "output_type": "stream",
     "text": [
      "Sanity check passed!\n"
     ]
    }
   ],
   "source": [
    "Qi_blockdiag, q_stacked= compute_stack_Qi_q(G_FMI)\n",
    "# Set alpha = 1\n",
    "Q = compute_Q(G_FMI, Qi_blockdiag, alpha=1)\n",
    "\n",
    "# Sanity check \n",
    "\n",
    "assert(q_stacked.shape == (1920,1))\n",
    "assert(Q.shape == (1920,1920))\n",
    "\n",
    "print('Sanity check passed!')\n"
   ]
  },
  {
   "cell_type": "markdown",
   "metadata": {
    "deletable": false,
    "editable": false,
    "nbgrader": {
     "cell_type": "markdown",
     "checksum": "cbd14621b97f5d6c888d7c1461ea5374",
     "grade": false,
     "grade_id": "cell-2d33b63c8ec022f5",
     "locked": true,
     "schema_version": 3,
     "solution": false,
     "task": false
    },
    "tags": []
   },
   "source": [
    "<a id='varying_features'></a>\n",
    "<div class=\" alert alert-warning\">\n",
    "\n",
    "\n",
    "#### 3.2.3 $\\widehat{\\mathbf{w}}$\n",
    "\n",
    "Compute $\\widehat{\\mathbf{w}}$\n",
    "\n",
    "$$\\widehat{\\mathbf{w}}=(-1 / 2) \\mathbf{Q}^{-1} \\mathbf{q}$$\n",
    "\n",
    "</div>"
   ]
  },
  {
   "cell_type": "code",
   "execution_count": 11,
   "metadata": {
    "deletable": false,
    "nbgrader": {
     "cell_type": "code",
     "checksum": "abf90b309fa6f42e6aced0dd0c753567",
     "grade": false,
     "grade_id": "cell-30d63c1033ae901d",
     "locked": false,
     "schema_version": 3,
     "solution": true,
     "task": false
    },
    "tags": []
   },
   "outputs": [],
   "source": [
    "def compute_w(Q, q):\n",
    "    \"\"\"\n",
    "    Solve the system of linear equations Qw = -0.5 * q to compute w_hat.\n",
    "\n",
    "    Parameters\n",
    "    ----------\n",
    "    Q : numpy.ndarray\n",
    "        A square matrix of shape (n*d, n*d).\n",
    "    q : numpy.ndarray\n",
    "        A column vector of shape (n*d, 1).\n",
    "\n",
    "    Returns\n",
    "    -------\n",
    "    w_hat : numpy.ndarray\n",
    "        The computed weight vector of shape (n*d, 1).\n",
    "    \"\"\"\n",
    "\n",
    "    # Hint: linalg.solve Qx = q instead of matrix invert\n",
    "    \n",
    "    # YOUR CODE HERE\n",
    "    w_hat = np.linalg.solve(Q, -0.5 * q)\n",
    "    \n",
    "    return w_hat"
   ]
  },
  {
   "cell_type": "code",
   "execution_count": 12,
   "metadata": {
    "deletable": false,
    "editable": false,
    "nbgrader": {
     "cell_type": "code",
     "checksum": "24993e17c6a109a5118e1ed6bbec9ccc",
     "grade": true,
     "grade_id": "cell-10fe770c7e36aa15",
     "locked": true,
     "points": 1,
     "schema_version": 3,
     "solution": false,
     "task": false
    },
    "tags": []
   },
   "outputs": [
    {
     "name": "stdout",
     "output_type": "stream",
     "text": [
      "Sanity check passed!\n"
     ]
    }
   ],
   "source": [
    "w_hat = compute_w(Q, q_stacked)\n",
    "\n",
    "# Sanity check \n",
    "\n",
    "assert(w_hat.shape == (1920,1))\n",
    "print('Sanity check passed!')\n",
    "\n"
   ]
  },
  {
   "cell_type": "markdown",
   "metadata": {
    "deletable": false,
    "editable": false,
    "nbgrader": {
     "cell_type": "markdown",
     "checksum": "e11089bcd3eba3c94981d0c481c9994b",
     "grade": false,
     "grade_id": "cell-389b761b486fac89",
     "locked": true,
     "schema_version": 3,
     "solution": false,
     "task": false
    },
    "tags": []
   },
   "source": [
    "<a id='varying_features'></a>\n",
    "<div class=\" alert alert-warning\">\n",
    "\n",
    "### Task 3.3 - Solve GTVMin using gradient\n",
    "\n",
    "__Task description:__\n",
    "\n",
    "Closed form is compact but not always practical. One common optimization in machine learning is gradient descent:\n",
    "\n",
    "$$\\mathbf{w}^{(k+1)}:=\\mathbf{w}^{(k)}-\\eta \\nabla f\\left(\\mathbf{w}^{(k)}\\right)$$\n",
    "\n",
    "\n",
    "\n",
    "Your task is to solve the instance of GTVMin using FedGD Algorithm5.1 from [FLBook](https://github.com/alexjungaalto/FederatedLearning/blob/main/material/FLBook.pdf)\n",
    "\n",
    "**Instruction:**\n",
    "\n",
    "(1) Compute local gradient\n",
    "\n",
    "$$\\left(2 / m_i\\right)\\left(\\mathbf{X}^{(i)}\\right)^T\\left(\\mathbf{y}^{(i)}-\\mathbf{X}^{(i)} \\mathbf{w}^{(i, k)}\\right)$$\n",
    "\n",
    "(2) Compute graph penatly \n",
    "\n",
    "$$2 \\alpha \\sum A_{i, i^{\\prime}}\\left(\\mathbf{w}^{\\left(i^{\\prime}, k\\right)}-\\mathbf{w}^{(i, k)}\\right)$$\n",
    "\n",
    "(3) Combine them according to Section 5.3 from [FLBook](https://github.com/alexjungaalto/FederatedLearning/blob/main/material/FLBook.pdf)\n",
    "\n",
    "</div>"
   ]
  },
  {
   "cell_type": "code",
   "execution_count": 13,
   "metadata": {
    "deletable": false,
    "nbgrader": {
     "cell_type": "code",
     "checksum": "7e826ec44c0b83cb3696e6fa68923c5d",
     "grade": false,
     "grade_id": "cell-f50bdefba31ff3f2",
     "locked": false,
     "schema_version": 3,
     "solution": true,
     "task": false
    },
    "tags": []
   },
   "outputs": [],
   "source": [
    "def fedgd_linear(graph, alpha=1.0, eta=0.001, max_iter=100):    \n",
    "    \"\"\"\n",
    "    Perform Federated Gradient Descent (FedGD) on a graph G for a linear model.\n",
    "\n",
    "    This function iteratively updates local model weights for each node in the graph \n",
    "    using Mean Squared Error (MSE) gradient descent. It also incorporates a graph-based \n",
    "    penalty term to encourage similar weights among neighboring nodes.\n",
    "\n",
    "    Parameters\n",
    "    ----------\n",
    "    G : networkx.Graph\n",
    "        A graph where each node represents a dataset and contains:\n",
    "        - 'X_train' : numpy.ndarray of shape (m_i, d), local training features\n",
    "        - 'y_train' : numpy.ndarray of shape (m_i,), local training targets\n",
    "        - 'w'       : numpy.ndarray of shape (d, 1), initialized model weights (randomized)\n",
    "    alpha : float, optional\n",
    "        Regularization parameter for the neighbor penalty (default is 1.0).\n",
    "    eta : float, optional\n",
    "        Learning rate for gradient updates (default is 0.001).\n",
    "    max_iter : int, optional\n",
    "        Number of gradient descent iterations (default is 100).\n",
    "\n",
    "    Returns\n",
    "    -------\n",
    "    G : networkx.Graph\n",
    "        The updated graph with optimized model weights for each node.\n",
    "    \"\"\"\n",
    "    # Define the random seed\n",
    "    np.random.seed(42)\n",
    "    \n",
    "    # Deep copy the input graph\n",
    "    G = copy.deepcopy(graph)\n",
    "    \n",
    "    # Initialize weights\n",
    "    for node in G.nodes():\n",
    "        d = (10,1)\n",
    "        w_init = np.random.uniform(low=-1.0, high=1.0, size=d)\n",
    "        G.nodes[node]['w'] = w_init\n",
    "\n",
    "    for _ in range(max_iter):\n",
    "        # Temporary dict to store newly computed weights before synchronization\n",
    "        w_new = {}\n",
    "\n",
    "        # Compute updates for each node\n",
    "        for node in G.nodes():\n",
    "            # Extract the current local weight\n",
    "            w_i_k = G.nodes[node]['w']\n",
    "\n",
    "            # Local training data\n",
    "            X_train = G.nodes[node]['X_train']\n",
    "            y_train = G.nodes[node]['y_train']\n",
    "            \n",
    "            # (I) Local gradient (MSE derivative) \n",
    "            # grad_local = ?\n",
    "            \n",
    "            # YOUR CODE HERE\n",
    "            # grad_local = (2 / m_i) * X^T * (y - Xw) where m_i is number of samples\n",
    "            m_i = len(y_train)\n",
    "            grad_local = (2 / m_i) * np.dot(X_train.T, (y_train - np.dot(X_train, w_i_k)))\n",
    "            \n",
    "\n",
    "            # (II) Graph (neighbor) penalty\n",
    "            # grad_graph = ?\n",
    "            \n",
    "            # YOUR CODE HERE\n",
    "            grad_graph = np.zeros_like(w_i_k)\n",
    "\n",
    "            # Combine\n",
    "            grad_total = -(grad_local + grad_graph)\n",
    "\n",
    "            # Update rule\n",
    "            # w_i_next = ?\n",
    "            \n",
    "            # YOUR CODE HERE\n",
    "            # Update rule: w_i_next = w_i_k - eta * grad_total\n",
    "            w_i_next = w_i_k - eta * grad_total\n",
    "\n",
    "            # Store the updated weight\n",
    "            w_new[node] = w_i_next\n",
    "\n",
    "        # Synchronize all weights\n",
    "        for node in G.nodes():\n",
    "            G.nodes[node]['w'] = w_new[node]\n",
    "\n",
    "    return G"
   ]
  },
  {
   "cell_type": "code",
   "execution_count": 14,
   "metadata": {},
   "outputs": [],
   "source": [
    "# You can adjust alpha, eta, max_iter to see the trade-off between local loss and global loss\n",
    "alpha=1\n",
    "eta=0.0001\n",
    "max_iter=100\n",
    "\n",
    "G_fedgd = fedgd_linear(\n",
    "    G_FMI,\n",
    "    alpha=alpha,\n",
    "    eta=eta,\n",
    "    max_iter=max_iter\n",
    ")"
   ]
  },
  {
   "cell_type": "code",
   "execution_count": 15,
   "metadata": {
    "deletable": false,
    "editable": false,
    "nbgrader": {
     "cell_type": "code",
     "checksum": "01d6abc7dc17de0236ac99ca4d0cc0b9",
     "grade": false,
     "grade_id": "cell-780c00bc8d21d8c8",
     "locked": true,
     "schema_version": 3,
     "solution": false,
     "task": false
    },
    "tags": []
   },
   "outputs": [
    {
     "data": {
      "image/png": "[encoded data removed]",
      "text/plain": [
       "<Figure size 1000x600 with 1 Axes>"
      ]
     },
     "metadata": {},
     "output_type": "display_data"
    },
    {
     "name": "stdout",
     "output_type": "stream",
     "text": [
      "Average MSE: 57.24355622930756\n"
     ]
    }
   ],
   "source": [
    "# MSE results\n",
    "\n",
    "mse_list = []\n",
    "for node in G_fedgd.nodes():\n",
    "    w_final = G_fedgd.nodes[node]['w']\n",
    "    X_val_local = G_fedgd.nodes[node]['X_val']\n",
    "    y_val_local = G_fedgd.nodes[node]['y_val']\n",
    "    y_pred = X_val_local @ w_final\n",
    "    mse = mean_squared_error(y_val_local, y_pred)\n",
    "    mse_list.append(mse)\n",
    "\n",
    "plt.figure(figsize=(10, 6))\n",
    "plt.bar(range(len(mse_list)), mse_list)\n",
    "plt.xlabel('Station Index')\n",
    "plt.ylabel('MSE')\n",
    "plt.show()\n",
    "\n",
    "avg_mse = np.mean(mse_list)\n",
    "print(\"Average MSE:\", avg_mse)"
   ]
  },
  {
   "cell_type": "code",
   "execution_count": 16,
   "metadata": {
    "deletable": false,
    "editable": false,
    "nbgrader": {
     "cell_type": "code",
     "checksum": "54bc08fce413d8ae5a2ba0f6660a9f5c",
     "grade": true,
     "grade_id": "cell-5a7c06eaf23db08a",
     "locked": true,
     "points": 3,
     "schema_version": 3,
     "solution": false,
     "task": false
    },
    "tags": []
   },
   "outputs": [
    {
     "name": "stdout",
     "output_type": "stream",
     "text": [
      "Sanity check passed!\n"
     ]
    }
   ],
   "source": [
    "# Sanity check\n",
    "\n",
    "assert(avg_mse<100), \"Try to achieve a better result.\"\n",
    "print('Sanity check passed!')\n"
   ]
  },
  {
   "cell_type": "code",
   "execution_count": null,
   "metadata": {},
   "outputs": [],
   "source": []
  }
 ],
 "metadata": {
  "kernelspec": {
   "display_name": "Python 3 (ipykernel)",
   "language": "python",
   "name": "python3"
  },
  "language_info": {
   "codemirror_mode": {
    "name": "ipython",
    "version": 3
   },
   "file_extension": ".py",
   "mimetype": "text/x-python",
   "name": "python",
   "nbconvert_exporter": "python",
   "pygments_lexer": "ipython3",
   "version": "3.12.4"
  }
 },
 "nbformat": 4,
 "nbformat_minor": 4
}
